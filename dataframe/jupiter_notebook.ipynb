{
 "cells": [
  {
   "cell_type": "code",
   "execution_count": 3,
   "metadata": {},
   "outputs": [],
   "source": [
    "import polars as pl\n",
    "import pandas as pd\n",
    "import numpy as np\n",
    "import pyarrow\n",
    "\n",
    "pd.options.display.float_format = '{:.0f}'.format"
   ]
  },
  {
   "cell_type": "markdown",
   "metadata": {},
   "source": [
    "## READING CSV DIFFERENCE"
   ]
  },
  {
   "cell_type": "code",
   "execution_count": 4,
   "metadata": {},
   "outputs": [],
   "source": [
    "df=pl.read_csv(\"data/movie_data.csv\")"
   ]
  },
  {
   "cell_type": "code",
   "execution_count": 10,
   "metadata": {},
   "outputs": [],
   "source": [
    "df_pd=pd.read_csv(\"data/movie_data.csv\")"
   ]
  },
  {
   "cell_type": "markdown",
   "metadata": {},
   "source": [
    "## FILTERING DIFFERENCE"
   ]
  },
  {
   "cell_type": "code",
   "execution_count": 139,
   "metadata": {},
   "outputs": [
    {
     "data": {
      "text/plain": [
       "(900708, 6)"
      ]
     },
     "execution_count": 139,
     "metadata": {},
     "output_type": "execute_result"
    }
   ],
   "source": [
    "df.filter(pl.col(\"Runtime\")>140).shape"
   ]
  },
  {
   "cell_type": "code",
   "execution_count": 140,
   "metadata": {},
   "outputs": [
    {
     "data": {
      "text/plain": [
       "(900708, 6)"
      ]
     },
     "execution_count": 140,
     "metadata": {},
     "output_type": "execute_result"
    }
   ],
   "source": [
    "df_pd[df_pd['Runtime']>140].shape"
   ]
  },
  {
   "cell_type": "code",
   "execution_count": 137,
   "metadata": {},
   "outputs": [
    {
     "data": {
      "text/plain": [
       "(2500436, 6)"
      ]
     },
     "execution_count": 137,
     "metadata": {},
     "output_type": "execute_result"
    }
   ],
   "source": [
    "df.filter(pl.col(\"Genre\").is_in([\"Documentary\",\"Thriller\"])).shape\n",
    "\n"
   ]
  },
  {
   "cell_type": "code",
   "execution_count": 138,
   "metadata": {},
   "outputs": [
    {
     "data": {
      "text/plain": [
       "(2500436, 6)"
      ]
     },
     "execution_count": 138,
     "metadata": {},
     "output_type": "execute_result"
    }
   ],
   "source": [
    "# df_pd[df_pd['Genre'].isin([\"Documentary\",\"Thriller\"])]\n",
    "df_pd.query('Genre in [\"Documentary\",\"Thriller\"]').shape"
   ]
  },
  {
   "cell_type": "markdown",
   "metadata": {},
   "source": [
    "## Computation\n"
   ]
  },
  {
   "cell_type": "code",
   "execution_count": 157,
   "metadata": {},
   "outputs": [
    {
     "data": {
      "text/html": [
       "<div><style>\n",
       ".dataframe > thead > tr,\n",
       ".dataframe > tbody > tr {\n",
       "  text-align: right;\n",
       "  white-space: pre-wrap;\n",
       "}\n",
       "</style>\n",
       "<small>shape: (8, 1)</small><table border=\"1\" class=\"dataframe\"><thead><tr><th>Genre</th></tr><tr><td>str</td></tr></thead><tbody><tr><td>&quot;Mystery&quot;</td></tr><tr><td>&quot;Thriller&quot;</td></tr><tr><td>&quot;Comedy&quot;</td></tr><tr><td>&quot;Horror&quot;</td></tr><tr><td>&quot;Drama&quot;</td></tr><tr><td>&quot;Romance&quot;</td></tr><tr><td>&quot;Documentary&quot;</td></tr><tr><td>&quot;Action&quot;</td></tr></tbody></table></div>"
      ],
      "text/plain": [
       "shape: (8, 1)\n",
       "┌─────────────┐\n",
       "│ Genre       │\n",
       "│ ---         │\n",
       "│ str         │\n",
       "╞═════════════╡\n",
       "│ Mystery     │\n",
       "│ Thriller    │\n",
       "│ Comedy      │\n",
       "│ Horror      │\n",
       "│ Drama       │\n",
       "│ Romance     │\n",
       "│ Documentary │\n",
       "│ Action      │\n",
       "└─────────────┘"
      ]
     },
     "execution_count": 157,
     "metadata": {},
     "output_type": "execute_result"
    }
   ],
   "source": [
    "df.select([pl.col(\"Genre\").unique()])"
   ]
  },
  {
   "cell_type": "code",
   "execution_count": 158,
   "metadata": {},
   "outputs": [
    {
     "data": {
      "text/plain": [
       "array(['Romance', 'Drama', 'Action', 'Documentary', 'Thriller', 'Horror',\n",
       "       'Mystery', 'Comedy'], dtype=object)"
      ]
     },
     "execution_count": 158,
     "metadata": {},
     "output_type": "execute_result"
    }
   ],
   "source": [
    "df_pd['Genre'].unique()"
   ]
  },
  {
   "cell_type": "markdown",
   "metadata": {},
   "source": [
    "## DESCRIBE"
   ]
  },
  {
   "cell_type": "code",
   "execution_count": 169,
   "metadata": {},
   "outputs": [
    {
     "data": {
      "text/html": [
       "<div><style>\n",
       ".dataframe > thead > tr,\n",
       ".dataframe > tbody > tr {\n",
       "  text-align: right;\n",
       "  white-space: pre-wrap;\n",
       "}\n",
       "</style>\n",
       "<small>shape: (9, 7)</small><table border=\"1\" class=\"dataframe\"><thead><tr><th>describe</th><th>Title</th><th>Genre</th><th>Premiere</th><th>Runtime</th><th>IMDB Score</th><th>Language\r</th></tr><tr><td>str</td><td>str</td><td>str</td><td>str</td><td>f64</td><td>f64</td><td>str</td></tr></thead><tbody><tr><td>&quot;count&quot;</td><td>&quot;9999999&quot;</td><td>&quot;9999999&quot;</td><td>&quot;9999999&quot;</td><td>9.999999e6</td><td>9.999999e6</td><td>&quot;9999999&quot;</td></tr><tr><td>&quot;null_count&quot;</td><td>&quot;0&quot;</td><td>&quot;0&quot;</td><td>&quot;0&quot;</td><td>0.0</td><td>0.0</td><td>&quot;0&quot;</td></tr><tr><td>&quot;mean&quot;</td><td>null</td><td>null</td><td>null</td><td>99.495045</td><td>3.000622</td><td>null</td></tr><tr><td>&quot;std&quot;</td><td>null</td><td>null</td><td>null</td><td>28.868762</td><td>1.155296</td><td>null</td></tr><tr><td>&quot;min&quot;</td><td>&quot;A A Baby&quot;</td><td>&quot;Action&quot;</td><td>&quot;April 01, 2020…</td><td>50.0</td><td>1.0</td><td>&quot;Chinese\r&quot;</td></tr><tr><td>&quot;25%&quot;</td><td>null</td><td>null</td><td>null</td><td>74.0</td><td>2.0</td><td>null</td></tr><tr><td>&quot;50%&quot;</td><td>null</td><td>null</td><td>null</td><td>99.0</td><td>3.0</td><td>null</td></tr><tr><td>&quot;75%&quot;</td><td>null</td><td>null</td><td>null</td><td>124.0</td><td>4.0</td><td>null</td></tr><tr><td>&quot;max&quot;</td><td>&quot;Yourself Yours…</td><td>&quot;Thriller&quot;</td><td>&quot;September 30, …</td><td>149.0</td><td>5.0</td><td>&quot;Spanish\r&quot;</td></tr></tbody></table></div>"
      ],
      "text/plain": [
       "shape: (9, 7)\n",
       "┌────────────┬──────────────┬──────────┬──────────────────────┬────────────┬────────────┬──────────┐\n",
       "│ describe   ┆ Title        ┆ Genre    ┆ Premiere             ┆ Runtime    ┆ IMDB Score ┆ Language\n",
       " │\n",
       "│ ---        ┆ ---          ┆ ---      ┆ ---                  ┆ ---        ┆ ---        ┆ ---      │\n",
       "│ str        ┆ str          ┆ str      ┆ str                  ┆ f64        ┆ f64        ┆ str      │\n",
       "╞════════════╪══════════════╪══════════╪══════════════════════╪════════════╪════════════╪══════════╡\n",
       "│ count      ┆ 9999999      ┆ 9999999  ┆ 9999999              ┆ 9.999999e6 ┆ 9.999999e6 ┆ 9999999  │\n",
       "│ null_count ┆ 0            ┆ 0        ┆ 0                    ┆ 0.0        ┆ 0.0        ┆ 0        │\n",
       "│ mean       ┆ null         ┆ null     ┆ null                 ┆ 99.495045  ┆ 3.000622   ┆ null     │\n",
       "│ std        ┆ null         ┆ null     ┆ null                 ┆ 28.868762  ┆ 1.155296   ┆ null     │\n",
       "│ min        ┆ A A Baby     ┆ Action   ┆ April 01, 2020       ┆ 50.0       ┆ 1.0        ┆ Chinese\n",
       "  │\n",
       "│ 25%        ┆ null         ┆ null     ┆ null                 ┆ 74.0       ┆ 2.0        ┆ null     │\n",
       "│ 50%        ┆ null         ┆ null     ┆ null                 ┆ 99.0       ┆ 3.0        ┆ null     │\n",
       "│ 75%        ┆ null         ┆ null     ┆ null                 ┆ 124.0      ┆ 4.0        ┆ null     │\n",
       "│ max        ┆ Yourself     ┆ Thriller ┆ September 30, 2023   ┆ 149.0      ┆ 5.0        ┆ Spanish\n",
       "  │\n",
       "│            ┆ Yourself Win ┆          ┆                      ┆            ┆            ┆          │\n",
       "└────────────┴──────────────┴──────────┴──────────────────────┴────────────┴────────────┴──────────┘"
      ]
     },
     "execution_count": 169,
     "metadata": {},
     "output_type": "execute_result"
    }
   ],
   "source": [
    "df.describe()"
   ]
  },
  {
   "cell_type": "code",
   "execution_count": 174,
   "metadata": {},
   "outputs": [
    {
     "data": {
      "text/html": [
       "<div>\n",
       "<style scoped>\n",
       "    .dataframe tbody tr th:only-of-type {\n",
       "        vertical-align: middle;\n",
       "    }\n",
       "\n",
       "    .dataframe tbody tr th {\n",
       "        vertical-align: top;\n",
       "    }\n",
       "\n",
       "    .dataframe thead th {\n",
       "        text-align: right;\n",
       "    }\n",
       "</style>\n",
       "<table border=\"1\" class=\"dataframe\">\n",
       "  <thead>\n",
       "    <tr style=\"text-align: right;\">\n",
       "      <th></th>\n",
       "      <th>Runtime</th>\n",
       "      <th>IMDB Score</th>\n",
       "    </tr>\n",
       "  </thead>\n",
       "  <tbody>\n",
       "    <tr>\n",
       "      <th>count</th>\n",
       "      <td>9999999</td>\n",
       "      <td>9999999</td>\n",
       "    </tr>\n",
       "    <tr>\n",
       "      <th>mean</th>\n",
       "      <td>99</td>\n",
       "      <td>3</td>\n",
       "    </tr>\n",
       "    <tr>\n",
       "      <th>std</th>\n",
       "      <td>29</td>\n",
       "      <td>1</td>\n",
       "    </tr>\n",
       "    <tr>\n",
       "      <th>min</th>\n",
       "      <td>50</td>\n",
       "      <td>1</td>\n",
       "    </tr>\n",
       "    <tr>\n",
       "      <th>25%</th>\n",
       "      <td>74</td>\n",
       "      <td>2</td>\n",
       "    </tr>\n",
       "    <tr>\n",
       "      <th>50%</th>\n",
       "      <td>99</td>\n",
       "      <td>3</td>\n",
       "    </tr>\n",
       "    <tr>\n",
       "      <th>75%</th>\n",
       "      <td>124</td>\n",
       "      <td>4</td>\n",
       "    </tr>\n",
       "    <tr>\n",
       "      <th>max</th>\n",
       "      <td>149</td>\n",
       "      <td>5</td>\n",
       "    </tr>\n",
       "  </tbody>\n",
       "</table>\n",
       "</div>"
      ],
      "text/plain": [
       "       Runtime  IMDB Score\n",
       "count  9999999     9999999\n",
       "mean        99           3\n",
       "std         29           1\n",
       "min         50           1\n",
       "25%         74           2\n",
       "50%         99           3\n",
       "75%        124           4\n",
       "max        149           5"
      ]
     },
     "execution_count": 174,
     "metadata": {},
     "output_type": "execute_result"
    }
   ],
   "source": [
    "df_pd.describe()"
   ]
  },
  {
   "cell_type": "markdown",
   "metadata": {},
   "source": [
    "## CREATION"
   ]
  },
  {
   "cell_type": "code",
   "execution_count": 183,
   "metadata": {},
   "outputs": [],
   "source": [
    "runtime=df.select(pl.col(\"Runtime\"))\n",
    "\n",
    "probs = [x for x in range(1,100_000_000)]\n",
    "percentiles = [x for x in range(1,100_000_000)]"
   ]
  },
  {
   "cell_type": "code",
   "execution_count": 184,
   "metadata": {},
   "outputs": [
    {
     "data": {
      "text/plain": [
       "(99999999, 2)"
      ]
     },
     "execution_count": 184,
     "metadata": {},
     "output_type": "execute_result"
    }
   ],
   "source": [
    "pl.DataFrame(dict(probs=probs, percentiles=percentiles)).shape"
   ]
  },
  {
   "cell_type": "code",
   "execution_count": 11,
   "metadata": {},
   "outputs": [],
   "source": [
    "\n",
    "pd.DataFrame(dict(probs=probs, percentiles=percentiles)).shape # results an error as it is uses big data "
   ]
  },
  {
   "cell_type": "code",
   "execution_count": 6,
   "metadata": {},
   "outputs": [
    {
     "data": {
      "text/html": [
       "<div>\n",
       "<style scoped>\n",
       "    .dataframe tbody tr th:only-of-type {\n",
       "        vertical-align: middle;\n",
       "    }\n",
       "\n",
       "    .dataframe tbody tr th {\n",
       "        vertical-align: top;\n",
       "    }\n",
       "\n",
       "    .dataframe thead th {\n",
       "        text-align: right;\n",
       "    }\n",
       "</style>\n",
       "<table border=\"1\" class=\"dataframe\">\n",
       "  <thead>\n",
       "    <tr style=\"text-align: right;\">\n",
       "      <th></th>\n",
       "      <th>Title</th>\n",
       "      <th>Genre</th>\n",
       "      <th>Premiere</th>\n",
       "      <th>Runtime</th>\n",
       "      <th>IMDB Score</th>\n",
       "      <th>Language\\r</th>\n",
       "    </tr>\n",
       "  </thead>\n",
       "  <tbody>\n",
       "    <tr>\n",
       "      <th>0</th>\n",
       "      <td>Research Data Security</td>\n",
       "      <td>Romance</td>\n",
       "      <td>January 10, 2021</td>\n",
       "      <td>87</td>\n",
       "      <td>4</td>\n",
       "      <td>Italian\\r</td>\n",
       "    </tr>\n",
       "    <tr>\n",
       "      <th>1</th>\n",
       "      <td>Whom Writer Mission</td>\n",
       "      <td>Drama</td>\n",
       "      <td>June 29, 2022</td>\n",
       "      <td>93</td>\n",
       "      <td>4</td>\n",
       "      <td>Chinese\\r</td>\n",
       "    </tr>\n",
       "    <tr>\n",
       "      <th>2</th>\n",
       "      <td>Significant During Movement</td>\n",
       "      <td>Action</td>\n",
       "      <td>February 02, 2020</td>\n",
       "      <td>103</td>\n",
       "      <td>2</td>\n",
       "      <td>English\\r</td>\n",
       "    </tr>\n",
       "    <tr>\n",
       "      <th>3</th>\n",
       "      <td>Its Gun Suddenly</td>\n",
       "      <td>Romance</td>\n",
       "      <td>November 15, 2020</td>\n",
       "      <td>139</td>\n",
       "      <td>2</td>\n",
       "      <td>English\\r</td>\n",
       "    </tr>\n",
       "    <tr>\n",
       "      <th>4</th>\n",
       "      <td>Become Among High</td>\n",
       "      <td>Documentary</td>\n",
       "      <td>April 26, 2023</td>\n",
       "      <td>134</td>\n",
       "      <td>1</td>\n",
       "      <td>Japanese\\r</td>\n",
       "    </tr>\n",
       "    <tr>\n",
       "      <th>...</th>\n",
       "      <td>...</td>\n",
       "      <td>...</td>\n",
       "      <td>...</td>\n",
       "      <td>...</td>\n",
       "      <td>...</td>\n",
       "      <td>...</td>\n",
       "    </tr>\n",
       "    <tr>\n",
       "      <th>9999994</th>\n",
       "      <td>Happen Management Address</td>\n",
       "      <td>Action</td>\n",
       "      <td>January 24, 2020</td>\n",
       "      <td>134</td>\n",
       "      <td>2</td>\n",
       "      <td>Chinese\\r</td>\n",
       "    </tr>\n",
       "    <tr>\n",
       "      <th>9999995</th>\n",
       "      <td>Experience Design Really</td>\n",
       "      <td>Action</td>\n",
       "      <td>June 11, 2021</td>\n",
       "      <td>104</td>\n",
       "      <td>3</td>\n",
       "      <td>Italian\\r</td>\n",
       "    </tr>\n",
       "    <tr>\n",
       "      <th>9999996</th>\n",
       "      <td>Concern Effect Eat</td>\n",
       "      <td>Romance</td>\n",
       "      <td>December 09, 2020</td>\n",
       "      <td>136</td>\n",
       "      <td>3</td>\n",
       "      <td>Hindi\\r</td>\n",
       "    </tr>\n",
       "    <tr>\n",
       "      <th>9999997</th>\n",
       "      <td>Ahead Poor Later</td>\n",
       "      <td>Action</td>\n",
       "      <td>January 07, 2022</td>\n",
       "      <td>77</td>\n",
       "      <td>5</td>\n",
       "      <td>Spanish\\r</td>\n",
       "    </tr>\n",
       "    <tr>\n",
       "      <th>9999998</th>\n",
       "      <td>Smile It Over</td>\n",
       "      <td>Drama</td>\n",
       "      <td>June 01, 2023</td>\n",
       "      <td>145</td>\n",
       "      <td>4</td>\n",
       "      <td>Spanish\\r</td>\n",
       "    </tr>\n",
       "  </tbody>\n",
       "</table>\n",
       "<p>9999999 rows × 6 columns</p>\n",
       "</div>"
      ],
      "text/plain": [
       "                               Title        Genre           Premiere  Runtime  \\\n",
       "0             Research Data Security      Romance   January 10, 2021       87   \n",
       "1                Whom Writer Mission        Drama      June 29, 2022       93   \n",
       "2        Significant During Movement       Action  February 02, 2020      103   \n",
       "3                   Its Gun Suddenly      Romance  November 15, 2020      139   \n",
       "4                  Become Among High  Documentary     April 26, 2023      134   \n",
       "...                              ...          ...                ...      ...   \n",
       "9999994    Happen Management Address       Action   January 24, 2020      134   \n",
       "9999995     Experience Design Really       Action      June 11, 2021      104   \n",
       "9999996           Concern Effect Eat      Romance  December 09, 2020      136   \n",
       "9999997             Ahead Poor Later       Action   January 07, 2022       77   \n",
       "9999998                Smile It Over        Drama      June 01, 2023      145   \n",
       "\n",
       "         IMDB Score  Language\\r  \n",
       "0                 4   Italian\\r  \n",
       "1                 4   Chinese\\r  \n",
       "2                 2   English\\r  \n",
       "3                 2   English\\r  \n",
       "4                 1  Japanese\\r  \n",
       "...             ...         ...  \n",
       "9999994           2   Chinese\\r  \n",
       "9999995           3   Italian\\r  \n",
       "9999996           3     Hindi\\r  \n",
       "9999997           5   Spanish\\r  \n",
       "9999998           4   Spanish\\r  \n",
       "\n",
       "[9999999 rows x 6 columns]"
      ]
     },
     "execution_count": 6,
     "metadata": {},
     "output_type": "execute_result"
    }
   ],
   "source": [
    "df.to_pandas()"
   ]
  },
  {
   "cell_type": "code",
   "execution_count": 9,
   "metadata": {},
   "outputs": [
    {
     "data": {
      "text/html": [
       "<div><style>\n",
       ".dataframe > thead > tr,\n",
       ".dataframe > tbody > tr {\n",
       "  text-align: right;\n",
       "  white-space: pre-wrap;\n",
       "}\n",
       "</style>\n",
       "<small>shape: (8, 2)</small><table border=\"1\" class=\"dataframe\"><thead><tr><th>Genre</th><th>in Number</th></tr><tr><td>str</td><td>u32</td></tr></thead><tbody><tr><td>&quot;Documentary&quot;</td><td>1250765</td></tr><tr><td>&quot;Horror&quot;</td><td>1248788</td></tr><tr><td>&quot;Action&quot;</td><td>1248863</td></tr><tr><td>&quot;Mystery&quot;</td><td>1251190</td></tr><tr><td>&quot;Romance&quot;</td><td>1250210</td></tr><tr><td>&quot;Drama&quot;</td><td>1250581</td></tr><tr><td>&quot;Comedy&quot;</td><td>1249931</td></tr><tr><td>&quot;Thriller&quot;</td><td>1249671</td></tr></tbody></table></div>"
      ],
      "text/plain": [
       "shape: (8, 2)\n",
       "┌─────────────┬───────────┐\n",
       "│ Genre       ┆ in Number │\n",
       "│ ---         ┆ ---       │\n",
       "│ str         ┆ u32       │\n",
       "╞═════════════╪═══════════╡\n",
       "│ Documentary ┆ 1250765   │\n",
       "│ Horror      ┆ 1248788   │\n",
       "│ Action      ┆ 1248863   │\n",
       "│ Mystery     ┆ 1251190   │\n",
       "│ Romance     ┆ 1250210   │\n",
       "│ Drama       ┆ 1250581   │\n",
       "│ Comedy      ┆ 1249931   │\n",
       "│ Thriller    ┆ 1249671   │\n",
       "└─────────────┴───────────┘"
      ]
     },
     "execution_count": 9,
     "metadata": {},
     "output_type": "execute_result"
    }
   ],
   "source": [
    "df.group_by('Genre').agg(pl.count().alias(\"in Number\"))"
   ]
  },
  {
   "cell_type": "markdown",
   "metadata": {},
   "source": [
    "# Result\n",
    "\n",
    "### compared runtimes of polars and pandas dataframes\n",
    "\n",
    "-- polars is faster and more easy to use in comparison to pandas\n",
    "\n",
    "-- pandas had difficulties working with big data frames\n",
    "\n"
   ]
  }
 ],
 "metadata": {
  "kernelspec": {
   "display_name": "airEnv",
   "language": "python",
   "name": "python3"
  },
  "language_info": {
   "codemirror_mode": {
    "name": "ipython",
    "version": 3
   },
   "file_extension": ".py",
   "mimetype": "text/x-python",
   "name": "python",
   "nbconvert_exporter": "python",
   "pygments_lexer": "ipython3",
   "version": "3.11.5"
  }
 },
 "nbformat": 4,
 "nbformat_minor": 2
}
