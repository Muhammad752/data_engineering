{
 "cells": [
  {
   "cell_type": "code",
   "execution_count": 50,
   "metadata": {},
   "outputs": [],
   "source": [
    "import polars as pl\n",
    "import pandas as pd\n",
    "import numpy as np\n",
    "import matplotlib.pyplot as plt\n",
    "import pyarrow\n",
    "from time import time\n",
    "\n",
    "pd.options.display.float_format = '{:.0f}'.format"
   ]
  },
  {
   "cell_type": "code",
   "execution_count": 25,
   "metadata": {},
   "outputs": [],
   "source": [
    "times={}\n",
    "def time_calc(function,string):\n",
    "    def wrapper():\n",
    "        start=time()\n",
    "        function()\n",
    "        times[string]=time()-start\n",
    "        return time()-start\n",
    "    return wrapper"
   ]
  },
  {
   "cell_type": "markdown",
   "metadata": {},
   "source": [
    "## READING CSV DIFFERENCE"
   ]
  },
  {
   "cell_type": "code",
   "execution_count": 26,
   "metadata": {},
   "outputs": [],
   "source": [
    "start=time()\n",
    "df=pl.read_csv(\"data/movie_data.csv\")\n",
    "end=time()\n",
    "times[\"read_time_pl\"]=end-start"
   ]
  },
  {
   "cell_type": "code",
   "execution_count": 27,
   "metadata": {},
   "outputs": [],
   "source": [
    "start=time()\n",
    "df_pd=pd.read_csv(\"data/movie_data.csv\")\n",
    "times[\"read_time_pd\"]=time()-start"
   ]
  },
  {
   "cell_type": "markdown",
   "metadata": {},
   "source": [
    "## FILTERING DIFFERENCE"
   ]
  },
  {
   "cell_type": "code",
   "execution_count": 4,
   "metadata": {},
   "outputs": [
    {
     "data": {
      "text/plain": [
       "(900708, 6)"
      ]
     },
     "execution_count": 4,
     "metadata": {},
     "output_type": "execute_result"
    }
   ],
   "source": [
    "start=time()\n",
    "df.filter(pl.col(\"Runtime\")>140).shape\n",
    "times[\"filter_time_pl\"]=time()-start"
   ]
  },
  {
   "cell_type": "code",
   "execution_count": 28,
   "metadata": {},
   "outputs": [],
   "source": [
    "start=time()\n",
    "df_pd[df_pd['Runtime']>140].shape\n",
    "times[\"filter_time_pd\"]=time()-start"
   ]
  },
  {
   "cell_type": "code",
   "execution_count": 29,
   "metadata": {},
   "outputs": [],
   "source": [
    "start=time()\n",
    "df.filter(pl.col(\"Genre\").is_in([\"Documentary\",\"Thriller\"])).shape\n",
    "times[\"filter_time_pl2\"]=time()-start\n"
   ]
  },
  {
   "cell_type": "code",
   "execution_count": 30,
   "metadata": {},
   "outputs": [],
   "source": [
    "# df_pd[df_pd['Genre'].isin([\"Documentary\",\"Thriller\"])]\n",
    "start=time()\n",
    "df_pd.query('Genre in [\"Documentary\",\"Thriller\"]').shape\n",
    "times[\"filter_time_pd2\"]=time()-start"
   ]
  },
  {
   "cell_type": "markdown",
   "metadata": {},
   "source": [
    "## Computation\n"
   ]
  },
  {
   "cell_type": "code",
   "execution_count": 31,
   "metadata": {},
   "outputs": [],
   "source": [
    "start=time()\n",
    "df.select([pl.col(\"Genre\").unique()])\n",
    "times[\"computation_pl\"]=time()-start"
   ]
  },
  {
   "cell_type": "code",
   "execution_count": 32,
   "metadata": {},
   "outputs": [],
   "source": [
    "start=time()\n",
    "df_pd['Genre'].unique()\n",
    "times[\"computation_pd\"]=time()-start"
   ]
  },
  {
   "cell_type": "markdown",
   "metadata": {},
   "source": [
    "## DESCRIBE"
   ]
  },
  {
   "cell_type": "code",
   "execution_count": 33,
   "metadata": {},
   "outputs": [],
   "source": [
    "start=time()\n",
    "df.describe()\n",
    "times[\"describe_func_pl\"]=time()-start"
   ]
  },
  {
   "cell_type": "code",
   "execution_count": 34,
   "metadata": {},
   "outputs": [],
   "source": [
    "start=time()\n",
    "df_pd.describe()\n",
    "times[\"describe_func_pd\"]=time()-start"
   ]
  },
  {
   "cell_type": "markdown",
   "metadata": {},
   "source": [
    "## CREATION"
   ]
  },
  {
   "cell_type": "code",
   "execution_count": 35,
   "metadata": {},
   "outputs": [],
   "source": [
    "probs = [x for x in range(1,10_000_000)]\n",
    "percentiles = [x for x in range(1,10_000_000)]"
   ]
  },
  {
   "cell_type": "code",
   "execution_count": 36,
   "metadata": {},
   "outputs": [],
   "source": [
    "start=time()\n",
    "pl.DataFrame(dict(probs=probs, percentiles=percentiles)).shape\n",
    "times[\"creation_time_pl\"]=time()-start"
   ]
  },
  {
   "cell_type": "code",
   "execution_count": 37,
   "metadata": {},
   "outputs": [],
   "source": [
    "\n",
    "start=time()\n",
    "pd.DataFrame(dict(probs=probs, percentiles=percentiles)).shape\n",
    "times[\"creation_time_pd\"]=time()-start"
   ]
  },
  {
   "cell_type": "code",
   "execution_count": 38,
   "metadata": {},
   "outputs": [],
   "source": [
    "start=time()\n",
    "df.to_pandas()\n",
    "times[\"pl_to_pandas\"]=time()-start"
   ]
  },
  {
   "cell_type": "code",
   "execution_count": 44,
   "metadata": {},
   "outputs": [
    {
     "data": {
      "text/html": [
       "<div><style>\n",
       ".dataframe > thead > tr,\n",
       ".dataframe > tbody > tr {\n",
       "  text-align: right;\n",
       "  white-space: pre-wrap;\n",
       "}\n",
       "</style>\n",
       "<small>shape: (8, 2)</small><table border=\"1\" class=\"dataframe\"><thead><tr><th>Genre</th><th>in Number</th></tr><tr><td>str</td><td>u32</td></tr></thead><tbody><tr><td>&quot;Romance&quot;</td><td>1250210</td></tr><tr><td>&quot;Horror&quot;</td><td>1248788</td></tr><tr><td>&quot;Mystery&quot;</td><td>1251190</td></tr><tr><td>&quot;Documentary&quot;</td><td>1250765</td></tr><tr><td>&quot;Thriller&quot;</td><td>1249671</td></tr><tr><td>&quot;Comedy&quot;</td><td>1249931</td></tr><tr><td>&quot;Drama&quot;</td><td>1250581</td></tr><tr><td>&quot;Action&quot;</td><td>1248863</td></tr></tbody></table></div>"
      ],
      "text/plain": [
       "shape: (8, 2)\n",
       "┌─────────────┬───────────┐\n",
       "│ Genre       ┆ in Number │\n",
       "│ ---         ┆ ---       │\n",
       "│ str         ┆ u32       │\n",
       "╞═════════════╪═══════════╡\n",
       "│ Romance     ┆ 1250210   │\n",
       "│ Horror      ┆ 1248788   │\n",
       "│ Mystery     ┆ 1251190   │\n",
       "│ Documentary ┆ 1250765   │\n",
       "│ Thriller    ┆ 1249671   │\n",
       "│ Comedy      ┆ 1249931   │\n",
       "│ Drama       ┆ 1250581   │\n",
       "│ Action      ┆ 1248863   │\n",
       "└─────────────┴───────────┘"
      ]
     },
     "execution_count": 44,
     "metadata": {},
     "output_type": "execute_result"
    }
   ],
   "source": [
    "start=time()\n",
    "df.group_by('Genre').agg(pl.count().alias(\"in Number\"))\n",
    "times[\"aggregation_time_pd\"]=time()-start"
   ]
  },
  {
   "cell_type": "code",
   "execution_count": 46,
   "metadata": {},
   "outputs": [],
   "source": [
    "start=time()\n",
    "df_pd.groupby('Genre').agg('count')\n",
    "times[\"aggregation_time_pd\"]=time()-start"
   ]
  },
  {
   "cell_type": "markdown",
   "metadata": {},
   "source": [
    "# Result\n",
    "\n",
    "### compared runtimes of polars and pandas dataframes\n",
    "\n",
    "-- polars is faster and more easy to use in comparison to pandas\n",
    "\n",
    "-- pandas had difficulties working with big data frames\n",
    "\n"
   ]
  },
  {
   "cell_type": "code",
   "execution_count": 91,
   "metadata": {},
   "outputs": [
    {
     "data": {
      "image/png": "[encoded data removed]",
      "text/plain": [
       "<Figure size 2200x500 with 1 Axes>"
      ]
     },
     "metadata": {},
     "output_type": "display_data"
    }
   ],
   "source": [
    "x = np.array(list(times.keys()))\n",
    "y = np.array(list(times.values()))\n",
    "\n",
    "plt.figure(figsize=(22,5))\n",
    "plt.bar(x,y)\n",
    "plt.show()"
   ]
  }
 ],
 "metadata": {
  "kernelspec": {
   "display_name": "airEnv",
   "language": "python",
   "name": "python3"
  },
  "language_info": {
   "codemirror_mode": {
    "name": "ipython",
    "version": 3
   },
   "file_extension": ".py",
   "mimetype": "text/x-python",
   "name": "python",
   "nbconvert_exporter": "python",
   "pygments_lexer": "ipython3",
   "version": "3.11.5"
  }
 },
 "nbformat": 4,
 "nbformat_minor": 2
}
