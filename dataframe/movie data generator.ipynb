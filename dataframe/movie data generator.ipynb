{
 "cells": [
  {
   "cell_type": "code",
   "execution_count": 1,
   "metadata": {},
   "outputs": [],
   "source": [
    "from faker import Faker\n",
    "\n",
    "fake = Faker()"
   ]
  },
  {
   "cell_type": "code",
   "execution_count": 2,
   "metadata": {},
   "outputs": [
    {
     "name": "stdout",
     "output_type": "stream",
     "text": [
      "Inside Whatever Per\n"
     ]
    }
   ],
   "source": [
    "def capitalize(str):\n",
    "    return str.capitalize()\n",
    "words = fake.words()\n",
    "capitalized_words = list(map(capitalize, words))\n",
    "movie_name = ' '.join(capitalized_words)\n",
    "print(movie_name) # Serve Fear Consider"
   ]
  },
  {
   "cell_type": "code",
   "execution_count": 3,
   "metadata": {},
   "outputs": [
    {
     "name": "stdout",
     "output_type": "stream",
     "text": [
      "April 13, 2023\n"
     ]
    }
   ],
   "source": [
    "\n",
    "from datetime import datetime\n",
    "\n",
    "date = datetime.strftime(fake.date_time_this_decade(), \"%B %d, %Y\")\n",
    "print(date) # April 30, 2020"
   ]
  },
  {
   "cell_type": "code",
   "execution_count": 4,
   "metadata": {},
   "outputs": [
    {
     "name": "stdout",
     "output_type": "stream",
     "text": [
      "Thriller\n"
     ]
    }
   ],
   "source": [
    "# creating a provider for genre\n",
    "from faker.providers import BaseProvider\n",
    "import random\n",
    "\n",
    "# create new provider class\n",
    "class GenereProvider(BaseProvider):\n",
    "    def movie_genre(self):\n",
    "        return random.choice(['Documentary', 'Thriller', 'Mystery', 'Horror', 'Action', 'Comedy', 'Drama', 'Romance'])\n",
    "\n",
    "# then add new provider to faker instance\n",
    "fake.add_provider(GenereProvider)\n",
    "\n",
    "# now you can use:\n",
    "movie_genre = fake.movie_genre()\n",
    "print(movie_genre) # Horror"
   ]
  },
  {
   "cell_type": "code",
   "execution_count": 5,
   "metadata": {},
   "outputs": [
    {
     "name": "stdout",
     "output_type": "stream",
     "text": [
      "Spanish\n"
     ]
    }
   ],
   "source": [
    "# creating a provider for genre\n",
    "from faker.providers import BaseProvider\n",
    "import random\n",
    "\n",
    "# create new provider class\n",
    "class LanguageProvider(BaseProvider):\n",
    "    def language(self):\n",
    "        return random.choice(['English', 'Chinese', 'Italian', 'Spanish', 'Hindi', 'Japanese'])\n",
    "\n",
    "# then add new provider to faker instance\n",
    "fake.add_provider(LanguageProvider)\n",
    "\n",
    "# now you can use:\n",
    "language = fake.language()\n",
    "print(language) # Spanish"
   ]
  },
  {
   "cell_type": "code",
   "execution_count": 6,
   "metadata": {},
   "outputs": [
    {
     "name": "stdout",
     "output_type": "stream",
     "text": [
      "81\n"
     ]
    }
   ],
   "source": [
    "\n",
    "# Getting random movie length\n",
    "movie_len = random.randrange(50, 150)\n",
    "print(movie_len) # 143"
   ]
  },
  {
   "cell_type": "code",
   "execution_count": 7,
   "metadata": {},
   "outputs": [
    {
     "name": "stdout",
     "output_type": "stream",
     "text": [
      "3.4\n"
     ]
    }
   ],
   "source": [
    "\n",
    "# Movie rating\n",
    "random_rating = round(random.uniform(1.0, 5.0), 1)\n",
    "print(random_rating) # 2.2"
   ]
  },
  {
   "cell_type": "markdown",
   "metadata": {},
   "source": [
    "## csv file"
   ]
  },
  {
   "cell_type": "code",
   "execution_count": 10,
   "metadata": {},
   "outputs": [],
   "source": [
    "\n",
    "from faker import Faker\n",
    "from faker.providers import BaseProvider\n",
    "import random\n",
    "import csv\n",
    "\n",
    "class GenereProvider(BaseProvider):\n",
    "    def movie_genre(self):\n",
    "        return random.choice(['Documentary', 'Thriller', 'Mystery', 'Horror', 'Action', 'Comedy', 'Drama', 'Romance'])\n",
    "\n",
    "class LanguageProvider(BaseProvider):\n",
    "    def language(self):\n",
    "        return random.choice(['English', 'Chinese', 'Italian', 'Spanish', 'Hindi', 'Japanese'])\n",
    "\n",
    "fake = Faker()\n",
    "\n",
    "fake.add_provider(GenereProvider)\n",
    "fake.add_provider(LanguageProvider)\n",
    "\n",
    "# Some of this is a bit verbose now, but doing so for the sake of completion\n",
    "\n",
    "def get_movie_name():\n",
    "    words = fake.words()\n",
    "    capitalized_words = list(map(capitalize, words))\n",
    "    return ' '.join(capitalized_words)\n",
    "\n",
    "def get_movie_date():\n",
    "    return datetime.strftime(fake.date_time_this_decade(), \"%B %d, %Y\")\n",
    "\n",
    "def get_movie_len():\n",
    "    return random.randrange(50, 150)\n",
    "\n",
    "def get_movie_rating():\n",
    "    return round(random.uniform(1.0, 5.0), 1)\n",
    "\n",
    "def generate_movie():\n",
    "    return [get_movie_name(), fake.movie_genre(), get_movie_date(), get_movie_len(), get_movie_rating(), fake.language()]\n",
    "\n",
    "with open('movie_data.csv', 'w') as csvfile:\n",
    "    writer = csv.writer(csvfile)\n",
    "    writer.writerow(['Title', 'Genre', 'Premiere', 'Runtime', 'IMDB Score', 'Language'])\n",
    "    for n in range(1, 10000000):\n",
    "        writer.writerow(generate_movie())"
   ]
  }
 ],
 "metadata": {
  "kernelspec": {
   "display_name": "jupiter",
   "language": "python",
   "name": "python3"
  },
  "language_info": {
   "codemirror_mode": {
    "name": "ipython",
    "version": 3
   },
   "file_extension": ".py",
   "mimetype": "text/x-python",
   "name": "python",
   "nbconvert_exporter": "python",
   "pygments_lexer": "ipython3",
   "version": "3.11.5"
  }
 },
 "nbformat": 4,
 "nbformat_minor": 2
}
